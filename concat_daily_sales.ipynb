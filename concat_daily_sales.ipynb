{
 "cells": [
  {
   "cell_type": "code",
   "execution_count": 3,
   "metadata": {},
   "outputs": [],
   "source": [
    "import pandas as pd\n",
    "import numpy as np\n",
    "pd.set_option('display.max_colwidth', None)"
   ]
  },
  {
   "cell_type": "code",
   "execution_count": 10,
   "metadata": {},
   "outputs": [],
   "source": [
    "#Uploading sales table\n",
    "sales=pd.read_excel('/Users/dboldin/Local documents/Jurabek/source tables/sales_to_concat.xlsx',\n",
    "                    header=None,\n",
    "                    names=['date', 'client', 'inn', 'clinic',\t'promo', 'new_medication',\t'group', 'region',\t'pcs',\t'total',\n",
    "                            'discount',\t'cashback',\t'price', 'distributor',\t'payment', 'type',\t'stock']\n",
    "                    )"
   ]
  },
  {
   "cell_type": "code",
   "execution_count": 12,
   "metadata": {},
   "outputs": [],
   "source": [
    "# Formating data. We have to clean string variables such as product names. Trimming them.\n",
    "sales['date'] = pd.to_datetime(sales['date'], format='%d%m%Y', infer_datetime_format=True, dayfirst=True)\n",
    "sales['new_medication'] = sales['new_medication'].str.replace('  ', ' ')\n",
    "sales['new_medication'] = sales['new_medication'].str.strip()\n",
    "sales['region'] = sales['region'].str.strip()\n",
    "# Adding supplementary fields\n",
    "sales['VIP'] = np.where(sales.region=='VIP', True, False)\n",
    "regions = pd.read_csv('/Users/dboldin/Local documents/Jurabek/source tables/region_mapping.csv',\n",
    "                        sep=';')\n",
    "sales = sales.merge(regions, on='region', how='left')\n"
   ]
  },
  {
   "cell_type": "code",
   "execution_count": 13,
   "metadata": {},
   "outputs": [],
   "source": [
    "# uploading the current table with all sales data\n",
    "master_sales = pd.read_excel('/Users/dboldin/Documents/Jurabek/Source/daily_sales.xlsx')"
   ]
  },
  {
   "cell_type": "code",
   "execution_count": 17,
   "metadata": {},
   "outputs": [],
   "source": [
    "# concat the tables to get the updated info\n",
    "merged = pd.concat([master_sales, sales])"
   ]
  },
  {
   "cell_type": "code",
   "execution_count": 18,
   "metadata": {},
   "outputs": [],
   "source": [
    "# Loading it back into the file source for Power BI or else\n",
    "merged.to_excel('/Users/dboldin/Documents/Jurabek/Source/daily_sales.xlsx', index=False)"
   ]
  }
 ],
 "metadata": {
  "kernelspec": {
   "display_name": "Python 3.10.8 64-bit",
   "language": "python",
   "name": "python3"
  },
  "language_info": {
   "codemirror_mode": {
    "name": "ipython",
    "version": 3
   },
   "file_extension": ".py",
   "mimetype": "text/x-python",
   "name": "python",
   "nbconvert_exporter": "python",
   "pygments_lexer": "ipython3",
   "version": "3.10.8"
  },
  "orig_nbformat": 4,
  "vscode": {
   "interpreter": {
    "hash": "aee8b7b246df8f9039afb4144a1f6fd8d2ca17a180786b69acc140d282b71a49"
   }
  }
 },
 "nbformat": 4,
 "nbformat_minor": 2
}
